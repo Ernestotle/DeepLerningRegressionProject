{
 "cells": [
  {
   "cell_type": "code",
   "id": "initial_id",
   "metadata": {
    "collapsed": true,
    "ExecuteTime": {
     "end_time": "2024-09-20T15:25:49.417584Z",
     "start_time": "2024-09-20T15:25:49.413081Z"
    }
   },
   "source": [
    "# set up\n",
    "import numpy as np\n",
    "import pandas as pd\n",
    "from sklearn.model_selection import train_test_split\n",
    "from sklearn.preprocessing import StandardScaler\n",
    "from sklearn.model_selection import GridSearchCV\n",
    "from scikeras.wrappers import KerasRegressor\n",
    "from tensorflow.keras import Sequential\n",
    "from tensorflow.keras.layers import Dense\n",
    "from tensorflow.keras.optimizers import Adam\n",
    "from tensorflow.keras.layers import InputLayer\n",
    "from tensorflow.keras.callbacks import EarlyStopping\n",
    "\n",
    "# supress the warnings\n",
    "import warnings\n",
    "warnings.filterwarnings(\"ignore\")"
   ],
   "outputs": [],
   "execution_count": 52
  },
  {
   "metadata": {
    "ExecuteTime": {
     "end_time": "2024-09-20T15:25:49.428627Z",
     "start_time": "2024-09-20T15:25:49.418590Z"
    }
   },
   "cell_type": "code",
   "source": [
    "# load the dataset\n",
    "data = pd.read_csv(\"admissions_data.csv\")\n",
    "data.head()"
   ],
   "id": "42a2890867f37782",
   "outputs": [
    {
     "data": {
      "text/plain": [
       "   Serial No.  GRE Score  TOEFL Score  University Rating  SOP  LOR   CGPA  \\\n",
       "0           1        337          118                  4  4.5   4.5  9.65   \n",
       "1           2        324          107                  4  4.0   4.5  8.87   \n",
       "2           3        316          104                  3  3.0   3.5  8.00   \n",
       "3           4        322          110                  3  3.5   2.5  8.67   \n",
       "4           5        314          103                  2  2.0   3.0  8.21   \n",
       "\n",
       "   Research  Chance of Admit   \n",
       "0         1              0.92  \n",
       "1         1              0.76  \n",
       "2         1              0.72  \n",
       "3         1              0.80  \n",
       "4         0              0.65  "
      ],
      "text/html": [
       "<div>\n",
       "<style scoped>\n",
       "    .dataframe tbody tr th:only-of-type {\n",
       "        vertical-align: middle;\n",
       "    }\n",
       "\n",
       "    .dataframe tbody tr th {\n",
       "        vertical-align: top;\n",
       "    }\n",
       "\n",
       "    .dataframe thead th {\n",
       "        text-align: right;\n",
       "    }\n",
       "</style>\n",
       "<table border=\"1\" class=\"dataframe\">\n",
       "  <thead>\n",
       "    <tr style=\"text-align: right;\">\n",
       "      <th></th>\n",
       "      <th>Serial No.</th>\n",
       "      <th>GRE Score</th>\n",
       "      <th>TOEFL Score</th>\n",
       "      <th>University Rating</th>\n",
       "      <th>SOP</th>\n",
       "      <th>LOR</th>\n",
       "      <th>CGPA</th>\n",
       "      <th>Research</th>\n",
       "      <th>Chance of Admit</th>\n",
       "    </tr>\n",
       "  </thead>\n",
       "  <tbody>\n",
       "    <tr>\n",
       "      <th>0</th>\n",
       "      <td>1</td>\n",
       "      <td>337</td>\n",
       "      <td>118</td>\n",
       "      <td>4</td>\n",
       "      <td>4.5</td>\n",
       "      <td>4.5</td>\n",
       "      <td>9.65</td>\n",
       "      <td>1</td>\n",
       "      <td>0.92</td>\n",
       "    </tr>\n",
       "    <tr>\n",
       "      <th>1</th>\n",
       "      <td>2</td>\n",
       "      <td>324</td>\n",
       "      <td>107</td>\n",
       "      <td>4</td>\n",
       "      <td>4.0</td>\n",
       "      <td>4.5</td>\n",
       "      <td>8.87</td>\n",
       "      <td>1</td>\n",
       "      <td>0.76</td>\n",
       "    </tr>\n",
       "    <tr>\n",
       "      <th>2</th>\n",
       "      <td>3</td>\n",
       "      <td>316</td>\n",
       "      <td>104</td>\n",
       "      <td>3</td>\n",
       "      <td>3.0</td>\n",
       "      <td>3.5</td>\n",
       "      <td>8.00</td>\n",
       "      <td>1</td>\n",
       "      <td>0.72</td>\n",
       "    </tr>\n",
       "    <tr>\n",
       "      <th>3</th>\n",
       "      <td>4</td>\n",
       "      <td>322</td>\n",
       "      <td>110</td>\n",
       "      <td>3</td>\n",
       "      <td>3.5</td>\n",
       "      <td>2.5</td>\n",
       "      <td>8.67</td>\n",
       "      <td>1</td>\n",
       "      <td>0.80</td>\n",
       "    </tr>\n",
       "    <tr>\n",
       "      <th>4</th>\n",
       "      <td>5</td>\n",
       "      <td>314</td>\n",
       "      <td>103</td>\n",
       "      <td>2</td>\n",
       "      <td>2.0</td>\n",
       "      <td>3.0</td>\n",
       "      <td>8.21</td>\n",
       "      <td>0</td>\n",
       "      <td>0.65</td>\n",
       "    </tr>\n",
       "  </tbody>\n",
       "</table>\n",
       "</div>"
      ]
     },
     "execution_count": 53,
     "metadata": {},
     "output_type": "execute_result"
    }
   ],
   "execution_count": 53
  },
  {
   "metadata": {
    "ExecuteTime": {
     "end_time": "2024-09-20T15:25:49.439649Z",
     "start_time": "2024-09-20T15:25:49.431636Z"
    }
   },
   "cell_type": "code",
   "source": [
    "# split the dataset into features and labels\n",
    "features = data.drop(columns=[\"Chance of Admit \"])\n",
    "labels = data[\"Chance of Admit \"]\n",
    "\n",
    "# split the dataset into training and test sets\n",
    "features_training, features_test, labels_training, labels_test = train_test_split(features, labels, test_size=0.25, random_state=42)\n",
    "\n",
    "# scale the dataset using ColumnTransformer\n",
    "scaler = StandardScaler()\n",
    "features_training_scaled = scaler.fit_transform(features_training)\n",
    "features_test_scaled = scaler.transform(features_test)"
   ],
   "id": "5bfc40201a6ff98c",
   "outputs": [],
   "execution_count": 54
  },
  {
   "metadata": {
    "ExecuteTime": {
     "end_time": "2024-09-20T15:25:49.444127Z",
     "start_time": "2024-09-20T15:25:49.440658Z"
    }
   },
   "cell_type": "code",
   "source": [
    "# create a neural network model\n",
    "def dnn_model(neurons=32, learning_rate=0.01):\n",
    "    model = Sequential()\n",
    "    # add an input layer\n",
    "    model.add(InputLayer(input_shape=(features_training.shape[1],)))\n",
    "    # add a hidden layer of 16 neurons and a ReLU function\n",
    "    model.add(Dense(neurons, activation='relu'))\n",
    "    # finally add an output layer\n",
    "    model.add(Dense(1))\n",
    "    \n",
    "    # create an Adam optimizer\n",
    "    opt = Adam(learning_rate)\n",
    "    # compile the model\n",
    "    model.compile(loss=\"mse\", metrics=[\"mae\"], optimizer=opt)\n",
    "    \n",
    "    return model"
   ],
   "id": "cdc6579115c54e9d",
   "outputs": [],
   "execution_count": 55
  },
  {
   "metadata": {
    "ExecuteTime": {
     "end_time": "2024-09-20T15:25:52.165188Z",
     "start_time": "2024-09-20T15:25:49.444127Z"
    }
   },
   "cell_type": "code",
   "source": [
    "# instantiate the model\n",
    "model = dnn_model()\n",
    "\n",
    "# create an early stopping\n",
    "early_stopping = EarlyStopping(monitor='val_loss', patience=10)\n",
    "\n",
    "# fit the model\n",
    "hist = model.fit(features_training_scaled, labels_training, epochs=50, batch_size=10, verbose=1, validation_split=0.2 , callbacks=[early_stopping])"
   ],
   "id": "5b5a2e5f8f9b33ed",
   "outputs": [
    {
     "name": "stdout",
     "output_type": "stream",
     "text": [
      "Epoch 1/50\n",
      "\u001B[1m30/30\u001B[0m \u001B[32m━━━━━━━━━━━━━━━━━━━━\u001B[0m\u001B[37m\u001B[0m \u001B[1m1s\u001B[0m 5ms/step - loss: 0.3594 - mae: 0.4613 - val_loss: 0.0383 - val_mae: 0.1446\n",
      "Epoch 2/50\n",
      "\u001B[1m30/30\u001B[0m \u001B[32m━━━━━━━━━━━━━━━━━━━━\u001B[0m\u001B[37m\u001B[0m \u001B[1m0s\u001B[0m 1ms/step - loss: 0.0319 - mae: 0.1389 - val_loss: 0.0141 - val_mae: 0.0851\n",
      "Epoch 3/50\n",
      "\u001B[1m30/30\u001B[0m \u001B[32m━━━━━━━━━━━━━━━━━━━━\u001B[0m\u001B[37m\u001B[0m \u001B[1m0s\u001B[0m 1ms/step - loss: 0.0148 - mae: 0.0976 - val_loss: 0.0106 - val_mae: 0.0790\n",
      "Epoch 4/50\n",
      "\u001B[1m30/30\u001B[0m \u001B[32m━━━━━━━━━━━━━━━━━━━━\u001B[0m\u001B[37m\u001B[0m \u001B[1m0s\u001B[0m 2ms/step - loss: 0.0077 - mae: 0.0667 - val_loss: 0.0077 - val_mae: 0.0650\n",
      "Epoch 5/50\n",
      "\u001B[1m30/30\u001B[0m \u001B[32m━━━━━━━━━━━━━━━━━━━━\u001B[0m\u001B[37m\u001B[0m \u001B[1m0s\u001B[0m 1ms/step - loss: 0.0083 - mae: 0.0718 - val_loss: 0.0058 - val_mae: 0.0577\n",
      "Epoch 6/50\n",
      "\u001B[1m30/30\u001B[0m \u001B[32m━━━━━━━━━━━━━━━━━━━━\u001B[0m\u001B[37m\u001B[0m \u001B[1m0s\u001B[0m 1ms/step - loss: 0.0066 - mae: 0.0636 - val_loss: 0.0079 - val_mae: 0.0704\n",
      "Epoch 7/50\n",
      "\u001B[1m30/30\u001B[0m \u001B[32m━━━━━━━━━━━━━━━━━━━━\u001B[0m\u001B[37m\u001B[0m \u001B[1m0s\u001B[0m 1ms/step - loss: 0.0059 - mae: 0.0609 - val_loss: 0.0058 - val_mae: 0.0606\n",
      "Epoch 8/50\n",
      "\u001B[1m30/30\u001B[0m \u001B[32m━━━━━━━━━━━━━━━━━━━━\u001B[0m\u001B[37m\u001B[0m \u001B[1m0s\u001B[0m 1ms/step - loss: 0.0052 - mae: 0.0566 - val_loss: 0.0063 - val_mae: 0.0635\n",
      "Epoch 9/50\n",
      "\u001B[1m30/30\u001B[0m \u001B[32m━━━━━━━━━━━━━━━━━━━━\u001B[0m\u001B[37m\u001B[0m \u001B[1m0s\u001B[0m 1ms/step - loss: 0.0045 - mae: 0.0513 - val_loss: 0.0052 - val_mae: 0.0558\n",
      "Epoch 10/50\n",
      "\u001B[1m30/30\u001B[0m \u001B[32m━━━━━━━━━━━━━━━━━━━━\u001B[0m\u001B[37m\u001B[0m \u001B[1m0s\u001B[0m 1ms/step - loss: 0.0039 - mae: 0.0471 - val_loss: 0.0053 - val_mae: 0.0557\n",
      "Epoch 11/50\n",
      "\u001B[1m30/30\u001B[0m \u001B[32m━━━━━━━━━━━━━━━━━━━━\u001B[0m\u001B[37m\u001B[0m \u001B[1m0s\u001B[0m 2ms/step - loss: 0.0042 - mae: 0.0499 - val_loss: 0.0055 - val_mae: 0.0574\n",
      "Epoch 12/50\n",
      "\u001B[1m30/30\u001B[0m \u001B[32m━━━━━━━━━━━━━━━━━━━━\u001B[0m\u001B[37m\u001B[0m \u001B[1m0s\u001B[0m 1ms/step - loss: 0.0035 - mae: 0.0458 - val_loss: 0.0061 - val_mae: 0.0609\n",
      "Epoch 13/50\n",
      "\u001B[1m30/30\u001B[0m \u001B[32m━━━━━━━━━━━━━━━━━━━━\u001B[0m\u001B[37m\u001B[0m \u001B[1m0s\u001B[0m 1ms/step - loss: 0.0044 - mae: 0.0500 - val_loss: 0.0048 - val_mae: 0.0509\n",
      "Epoch 14/50\n",
      "\u001B[1m30/30\u001B[0m \u001B[32m━━━━━━━━━━━━━━━━━━━━\u001B[0m\u001B[37m\u001B[0m \u001B[1m0s\u001B[0m 2ms/step - loss: 0.0033 - mae: 0.0453 - val_loss: 0.0046 - val_mae: 0.0510\n",
      "Epoch 15/50\n",
      "\u001B[1m30/30\u001B[0m \u001B[32m━━━━━━━━━━━━━━━━━━━━\u001B[0m\u001B[37m\u001B[0m \u001B[1m0s\u001B[0m 2ms/step - loss: 0.0035 - mae: 0.0454 - val_loss: 0.0053 - val_mae: 0.0553\n",
      "Epoch 16/50\n",
      "\u001B[1m30/30\u001B[0m \u001B[32m━━━━━━━━━━━━━━━━━━━━\u001B[0m\u001B[37m\u001B[0m \u001B[1m0s\u001B[0m 2ms/step - loss: 0.0047 - mae: 0.0543 - val_loss: 0.0062 - val_mae: 0.0611\n",
      "Epoch 17/50\n",
      "\u001B[1m30/30\u001B[0m \u001B[32m━━━━━━━━━━━━━━━━━━━━\u001B[0m\u001B[37m\u001B[0m \u001B[1m0s\u001B[0m 1ms/step - loss: 0.0041 - mae: 0.0516 - val_loss: 0.0048 - val_mae: 0.0537\n",
      "Epoch 18/50\n",
      "\u001B[1m30/30\u001B[0m \u001B[32m━━━━━━━━━━━━━━━━━━━━\u001B[0m\u001B[37m\u001B[0m \u001B[1m0s\u001B[0m 2ms/step - loss: 0.0031 - mae: 0.0438 - val_loss: 0.0049 - val_mae: 0.0531\n",
      "Epoch 19/50\n",
      "\u001B[1m30/30\u001B[0m \u001B[32m━━━━━━━━━━━━━━━━━━━━\u001B[0m\u001B[37m\u001B[0m \u001B[1m0s\u001B[0m 1ms/step - loss: 0.0030 - mae: 0.0423 - val_loss: 0.0058 - val_mae: 0.0574\n",
      "Epoch 20/50\n",
      "\u001B[1m30/30\u001B[0m \u001B[32m━━━━━━━━━━━━━━━━━━━━\u001B[0m\u001B[37m\u001B[0m \u001B[1m0s\u001B[0m 2ms/step - loss: 0.0036 - mae: 0.0476 - val_loss: 0.0066 - val_mae: 0.0588\n",
      "Epoch 21/50\n",
      "\u001B[1m30/30\u001B[0m \u001B[32m━━━━━━━━━━━━━━━━━━━━\u001B[0m\u001B[37m\u001B[0m \u001B[1m0s\u001B[0m 1ms/step - loss: 0.0036 - mae: 0.0459 - val_loss: 0.0059 - val_mae: 0.0618\n",
      "Epoch 22/50\n",
      "\u001B[1m30/30\u001B[0m \u001B[32m━━━━━━━━━━━━━━━━━━━━\u001B[0m\u001B[37m\u001B[0m \u001B[1m0s\u001B[0m 1ms/step - loss: 0.0028 - mae: 0.0421 - val_loss: 0.0070 - val_mae: 0.0611\n",
      "Epoch 23/50\n",
      "\u001B[1m30/30\u001B[0m \u001B[32m━━━━━━━━━━━━━━━━━━━━\u001B[0m\u001B[37m\u001B[0m \u001B[1m0s\u001B[0m 1ms/step - loss: 0.0043 - mae: 0.0516 - val_loss: 0.0044 - val_mae: 0.0491\n",
      "Epoch 24/50\n",
      "\u001B[1m30/30\u001B[0m \u001B[32m━━━━━━━━━━━━━━━━━━━━\u001B[0m\u001B[37m\u001B[0m \u001B[1m0s\u001B[0m 1ms/step - loss: 0.0027 - mae: 0.0399 - val_loss: 0.0045 - val_mae: 0.0507\n",
      "Epoch 25/50\n",
      "\u001B[1m30/30\u001B[0m \u001B[32m━━━━━━━━━━━━━━━━━━━━\u001B[0m\u001B[37m\u001B[0m \u001B[1m0s\u001B[0m 2ms/step - loss: 0.0035 - mae: 0.0461 - val_loss: 0.0048 - val_mae: 0.0531\n",
      "Epoch 26/50\n",
      "\u001B[1m30/30\u001B[0m \u001B[32m━━━━━━━━━━━━━━━━━━━━\u001B[0m\u001B[37m\u001B[0m \u001B[1m0s\u001B[0m 1ms/step - loss: 0.0032 - mae: 0.0450 - val_loss: 0.0047 - val_mae: 0.0518\n",
      "Epoch 27/50\n",
      "\u001B[1m30/30\u001B[0m \u001B[32m━━━━━━━━━━━━━━━━━━━━\u001B[0m\u001B[37m\u001B[0m \u001B[1m0s\u001B[0m 1ms/step - loss: 0.0026 - mae: 0.0375 - val_loss: 0.0046 - val_mae: 0.0521\n",
      "Epoch 28/50\n",
      "\u001B[1m30/30\u001B[0m \u001B[32m━━━━━━━━━━━━━━━━━━━━\u001B[0m\u001B[37m\u001B[0m \u001B[1m0s\u001B[0m 2ms/step - loss: 0.0024 - mae: 0.0391 - val_loss: 0.0054 - val_mae: 0.0591\n",
      "Epoch 29/50\n",
      "\u001B[1m30/30\u001B[0m \u001B[32m━━━━━━━━━━━━━━━━━━━━\u001B[0m\u001B[37m\u001B[0m \u001B[1m0s\u001B[0m 1ms/step - loss: 0.0033 - mae: 0.0454 - val_loss: 0.0049 - val_mae: 0.0512\n",
      "Epoch 30/50\n",
      "\u001B[1m30/30\u001B[0m \u001B[32m━━━━━━━━━━━━━━━━━━━━\u001B[0m\u001B[37m\u001B[0m \u001B[1m0s\u001B[0m 1ms/step - loss: 0.0027 - mae: 0.0404 - val_loss: 0.0066 - val_mae: 0.0680\n",
      "Epoch 31/50\n",
      "\u001B[1m30/30\u001B[0m \u001B[32m━━━━━━━━━━━━━━━━━━━━\u001B[0m\u001B[37m\u001B[0m \u001B[1m0s\u001B[0m 1ms/step - loss: 0.0040 - mae: 0.0512 - val_loss: 0.0118 - val_mae: 0.0767\n",
      "Epoch 32/50\n",
      "\u001B[1m30/30\u001B[0m \u001B[32m━━━━━━━━━━━━━━━━━━━━\u001B[0m\u001B[37m\u001B[0m \u001B[1m0s\u001B[0m 1ms/step - loss: 0.0076 - mae: 0.0618 - val_loss: 0.0055 - val_mae: 0.0563\n",
      "Epoch 33/50\n",
      "\u001B[1m30/30\u001B[0m \u001B[32m━━━━━━━━━━━━━━━━━━━━\u001B[0m\u001B[37m\u001B[0m \u001B[1m0s\u001B[0m 1ms/step - loss: 0.0033 - mae: 0.0438 - val_loss: 0.0050 - val_mae: 0.0539\n"
     ]
    }
   ],
   "execution_count": 56
  },
  {
   "metadata": {
    "ExecuteTime": {
     "end_time": "2024-09-20T15:51:55.858324Z",
     "start_time": "2024-09-20T15:40:06.037052Z"
    }
   },
   "cell_type": "code",
   "source": [
    "# tune the hyperparameters\n",
    "# define the parameter grid\n",
    "param_grid = {\n",
    "    \"batch_size\": np.arange(2, 11, 2),\n",
    "    \"epochs\": np.arange(10, 50, 15),\n",
    "    \"model__learning_rate\": np.logspace(-3, -1, 3),\n",
    "    \"model__neurons\": [16 ,32, 64]\n",
    "}\n",
    "\n",
    "# perform a grid search\n",
    "search_model = KerasRegressor(model=dnn_model, verbose=0)\n",
    "gs = GridSearchCV(search_model, param_grid, scoring=\"neg_mean_squared_error\", cv=3)\n",
    "grid_result = gs.fit(features_training_scaled, labels_training)\n",
    "\n",
    "print(f\"Best: {grid_result.best_score_} using {grid_result.best_params_}\")"
   ],
   "id": "acf0120a6016f5fb",
   "outputs": [
    {
     "name": "stdout",
     "output_type": "stream",
     "text": [
      "Best: -0.00410442429376832 using {'batch_size': 6, 'epochs': 10, 'model__learning_rate': 0.1, 'model__neurons': 32}\n"
     ]
    }
   ],
   "execution_count": 59
  }
 ],
 "metadata": {
  "kernelspec": {
   "display_name": "Python 3",
   "language": "python",
   "name": "python3"
  },
  "language_info": {
   "codemirror_mode": {
    "name": "ipython",
    "version": 2
   },
   "file_extension": ".py",
   "mimetype": "text/x-python",
   "name": "python",
   "nbconvert_exporter": "python",
   "pygments_lexer": "ipython2",
   "version": "2.7.6"
  }
 },
 "nbformat": 4,
 "nbformat_minor": 5
}
